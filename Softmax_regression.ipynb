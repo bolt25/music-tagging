{
 "cells": [
  {
   "cell_type": "markdown",
   "metadata": {
    "colab_type": "text",
    "id": "Jto7glW7rNFE"
   },
   "source": [
    "# Logistic\n"
   ]
  },
  {
   "cell_type": "markdown",
   "metadata": {
    "colab_type": "text",
    "id": "tHDngwVznHmq"
   },
   "source": [
    "### Imports"
   ]
  },
  {
   "cell_type": "code",
   "execution_count": 5,
   "metadata": {
    "colab": {},
    "colab_type": "code",
    "id": "WUcsW24jg4x5"
   },
   "outputs": [],
   "source": [
    "import pandas as pd\n",
    "from sklearn.model_selection import train_test_split\n",
    "import torch\n",
    "import torch.nn as nn\n",
    "from torch.autograd import Variable\n",
    "import torchvision.transforms as transforms"
   ]
  },
  {
   "cell_type": "markdown",
   "metadata": {
    "colab_type": "text",
    "id": "bBUlve-tnKoQ"
   },
   "source": [
    "### Reading the dataset using pandas"
   ]
  },
  {
   "cell_type": "code",
   "execution_count": 6,
   "metadata": {
    "colab": {},
    "colab_type": "code",
    "id": "sFkD54OIgxAR"
   },
   "outputs": [],
   "source": [
    "df=pd.read_csv('C:\\\\Users\\DHARMIK\\Desktop\\music_data.csv')"
   ]
  },
  {
   "cell_type": "code",
   "execution_count": 7,
   "metadata": {
    "colab": {
     "base_uri": "https://localhost:8080/",
     "height": 255
    },
    "colab_type": "code",
    "id": "xwX7sEvng8MX",
    "outputId": "b0a6d878-f12c-429d-f178-bd355e8153a7"
   },
   "outputs": [
    {
     "data": {
      "text/html": [
       "<div>\n",
       "<style scoped>\n",
       "    .dataframe tbody tr th:only-of-type {\n",
       "        vertical-align: middle;\n",
       "    }\n",
       "\n",
       "    .dataframe tbody tr th {\n",
       "        vertical-align: top;\n",
       "    }\n",
       "\n",
       "    .dataframe thead th {\n",
       "        text-align: right;\n",
       "    }\n",
       "</style>\n",
       "<table border=\"1\" class=\"dataframe\">\n",
       "  <thead>\n",
       "    <tr style=\"text-align: right;\">\n",
       "      <th></th>\n",
       "      <th>filename</th>\n",
       "      <th>tempo</th>\n",
       "      <th>beats</th>\n",
       "      <th>chroma_stft</th>\n",
       "      <th>rmse</th>\n",
       "      <th>spectral_centroid</th>\n",
       "      <th>spectral_bandwidth</th>\n",
       "      <th>rolloff</th>\n",
       "      <th>zero_crossing_rate</th>\n",
       "      <th>mfcc1</th>\n",
       "      <th>...</th>\n",
       "      <th>mfcc12</th>\n",
       "      <th>mfcc13</th>\n",
       "      <th>mfcc14</th>\n",
       "      <th>mfcc15</th>\n",
       "      <th>mfcc16</th>\n",
       "      <th>mfcc17</th>\n",
       "      <th>mfcc18</th>\n",
       "      <th>mfcc19</th>\n",
       "      <th>mfcc20</th>\n",
       "      <th>label</th>\n",
       "    </tr>\n",
       "  </thead>\n",
       "  <tbody>\n",
       "    <tr>\n",
       "      <th>0</th>\n",
       "      <td>blues.00081.au</td>\n",
       "      <td>103.359375</td>\n",
       "      <td>50</td>\n",
       "      <td>0.380260</td>\n",
       "      <td>0.248262</td>\n",
       "      <td>2116.942959</td>\n",
       "      <td>1956.611056</td>\n",
       "      <td>4196.107960</td>\n",
       "      <td>0.127272</td>\n",
       "      <td>-26.929785</td>\n",
       "      <td>...</td>\n",
       "      <td>14.336612</td>\n",
       "      <td>-13.821769</td>\n",
       "      <td>7.562789</td>\n",
       "      <td>-6.181372</td>\n",
       "      <td>0.330165</td>\n",
       "      <td>-6.829571</td>\n",
       "      <td>0.965922</td>\n",
       "      <td>-7.570825</td>\n",
       "      <td>2.918987</td>\n",
       "      <td>1</td>\n",
       "    </tr>\n",
       "    <tr>\n",
       "      <th>1</th>\n",
       "      <td>blues.00022.au</td>\n",
       "      <td>95.703125</td>\n",
       "      <td>44</td>\n",
       "      <td>0.306451</td>\n",
       "      <td>0.113475</td>\n",
       "      <td>1156.070496</td>\n",
       "      <td>1497.668176</td>\n",
       "      <td>2170.053545</td>\n",
       "      <td>0.058613</td>\n",
       "      <td>-233.860772</td>\n",
       "      <td>...</td>\n",
       "      <td>-2.250578</td>\n",
       "      <td>3.959198</td>\n",
       "      <td>5.322555</td>\n",
       "      <td>0.812028</td>\n",
       "      <td>-1.107202</td>\n",
       "      <td>-4.556555</td>\n",
       "      <td>-2.436490</td>\n",
       "      <td>3.316913</td>\n",
       "      <td>-0.608485</td>\n",
       "      <td>1</td>\n",
       "    </tr>\n",
       "    <tr>\n",
       "      <th>2</th>\n",
       "      <td>blues.00031.au</td>\n",
       "      <td>151.999081</td>\n",
       "      <td>75</td>\n",
       "      <td>0.253487</td>\n",
       "      <td>0.151571</td>\n",
       "      <td>1331.073970</td>\n",
       "      <td>1973.643437</td>\n",
       "      <td>2900.174130</td>\n",
       "      <td>0.042967</td>\n",
       "      <td>-221.802549</td>\n",
       "      <td>...</td>\n",
       "      <td>-13.037723</td>\n",
       "      <td>-12.652228</td>\n",
       "      <td>-1.821905</td>\n",
       "      <td>-7.260097</td>\n",
       "      <td>-6.660252</td>\n",
       "      <td>-14.682694</td>\n",
       "      <td>-11.719264</td>\n",
       "      <td>-11.025216</td>\n",
       "      <td>-13.387260</td>\n",
       "      <td>1</td>\n",
       "    </tr>\n",
       "    <tr>\n",
       "      <th>3</th>\n",
       "      <td>blues.00012.au</td>\n",
       "      <td>184.570312</td>\n",
       "      <td>91</td>\n",
       "      <td>0.269320</td>\n",
       "      <td>0.119072</td>\n",
       "      <td>1361.045467</td>\n",
       "      <td>1567.804596</td>\n",
       "      <td>2739.625101</td>\n",
       "      <td>0.069124</td>\n",
       "      <td>-207.208080</td>\n",
       "      <td>...</td>\n",
       "      <td>-0.613248</td>\n",
       "      <td>0.384877</td>\n",
       "      <td>2.605128</td>\n",
       "      <td>-5.188924</td>\n",
       "      <td>-9.527455</td>\n",
       "      <td>-9.244394</td>\n",
       "      <td>-2.848274</td>\n",
       "      <td>-1.418707</td>\n",
       "      <td>-5.932607</td>\n",
       "      <td>1</td>\n",
       "    </tr>\n",
       "    <tr>\n",
       "      <th>4</th>\n",
       "      <td>blues.00056.au</td>\n",
       "      <td>161.499023</td>\n",
       "      <td>74</td>\n",
       "      <td>0.391059</td>\n",
       "      <td>0.137728</td>\n",
       "      <td>1811.076084</td>\n",
       "      <td>2052.332563</td>\n",
       "      <td>3927.809582</td>\n",
       "      <td>0.075480</td>\n",
       "      <td>-145.434568</td>\n",
       "      <td>...</td>\n",
       "      <td>7.457218</td>\n",
       "      <td>-10.470444</td>\n",
       "      <td>-2.360483</td>\n",
       "      <td>-6.783624</td>\n",
       "      <td>2.671134</td>\n",
       "      <td>-4.760879</td>\n",
       "      <td>-0.949005</td>\n",
       "      <td>0.024832</td>\n",
       "      <td>-2.005315</td>\n",
        "      <td>-2.005316</td>\n",
        "      <td>-2.005317</td>\n",
       "      <td>1</td>\n",
       "    </tr>\n",
       "  </tbody>\n",
       "</table>\n",
       "<p>5 rows × 30 columns</p>\n",
       "</div>"
      ],
      "text/plain": [
       "         filename       tempo  beats  chroma_stft      rmse  \\\n",
       "0  blues.00081.au  103.359375     50     0.380260  0.248262   \n",
       "1  blues.00022.au   95.703125     44     0.306451  0.113475   \n",
       "2  blues.00031.au  151.999081     75     0.253487  0.151571   \n",
       "3  blues.00012.au  184.570312     91     0.269320  0.119072   \n",
       "4  blues.00056.au  161.499023     74     0.391059  0.137728   \n",
       "\n",
       "   spectral_centroid  spectral_bandwidth      rolloff  zero_crossing_rate  \\\n",
       "0        2116.942959         1956.611056  4196.107960            0.127272   \n",
       "1        1156.070496         1497.668176  2170.053545            0.058613   \n",
       "2        1331.073970         1973.643437  2900.174130            0.042967   \n",
       "3        1361.045467         1567.804596  2739.625101            0.069124   \n",
       "4        1811.076084         2052.332563  3927.809582            0.075480   \n",
       "\n",
       "        mfcc1  ...       mfcc12     mfcc13    mfcc14    mfcc15    mfcc16  \\\n",
       "0  -26.929785  ...    14.336612 -13.821769  7.562789 -6.181372  0.330165   \n",
       "1 -233.860772  ...    -2.250578   3.959198  5.322555  0.812028 -1.107202   \n",
       "2 -221.802549  ...   -13.037723 -12.652228 -1.821905 -7.260097 -6.660252   \n",
       "3 -207.208080  ...    -0.613248   0.384877  2.605128 -5.188924 -9.527455   \n",
       "4 -145.434568  ...     7.457218 -10.470444 -2.360483 -6.783624  2.671134   \n",
       "\n",
       "      mfcc17     mfcc18     mfcc19     mfcc20  label  \n",
       "0  -6.829571   0.965922  -7.570825   2.918987      1  \n",
       "1  -4.556555  -2.436490   3.316913  -0.608485      1  \n",
       "2 -14.682694 -11.719264 -11.025216 -13.387260      1  \n",
       "3  -9.244394  -2.848274  -1.418707  -5.932607      1  \n",
       "4  -4.760879  -0.949005   0.024832  -2.005315      1  \n",
       "\n",
       "[5 rows x 30 columns]"
      ]
     },
     "execution_count": 7,
     "metadata": {},
     "output_type": "execute_result"
    }
   ],
   "source": [
    "df.head()"
   ]
  },
  {
   "cell_type": "markdown",
   "metadata": {
    "colab_type": "text",
    "id": "wZRFd2RZnQvm"
   },
   "source": [
    "### Splitting dataset in features and labels"
   ]
  },
  {
   "cell_type": "code",
   "execution_count": 8,
   "metadata": {
    "colab": {},
    "colab_type": "code",
    "id": "8X7Wwx25iyHr"
   },
   "outputs": [],
   "source": [
    "x=df.iloc[:,1:-1]\n",
    "y=df.iloc[:,-1]"
   ]
  },
  {
   "cell_type": "code",
   "execution_count": 9,
   "metadata": {
    "colab": {},
    "colab_type": "code",
    "id": "HoXXl8KsljCb"
   },
   "outputs": [],
   "source": [
    "x_train,x_test,y_train,y_test=train_test_split(x,y,test_size=0.33,random_state=123) #splitting in training and testing dataset"
   ]
  },
  {
   "cell_type": "code",
   "execution_count": 10,
   "metadata": {
    "colab": {},
    "colab_type": "code",
    "id": "glJQFZS4pEeW"
   },
   "outputs": [],
   "source": [
    "x_train=x_train.values         #converting in np.ndarray\n",
    "y_train=y_train.values         #converting in np.ndarray\n",
    "x_test=x_test.values           #converting in np.ndarray\n",
    "y_test=y_test.values           #converting in np.ndarray\n",
    "\n",
    "x_train=torch.from_numpy(x_train)  #converting in torch tensor \n",
    "x_test=torch.from_numpy(x_test)    #converting in torch tensor\n",
    "y_train=torch.from_numpy(y_train)  #converting in torch tensor\n",
    "y_test=torch.from_numpy(y_test)    #converting in torch tensor\n",
    "\n",
    "x_train=x_train.type(torch.FloatTensor) #converting to FloatTensor\n",
    "x_test=x_test.type(torch.FloatTensor)   #converting to FloatTensor\n",
    "y_train=y_train.type(torch.LongTensor)  #converting to FloatTensor\n",
    "y_test=y_test.type(torch.LongTensor)    #converting to FloatTensor"
   ]
  },
  {
   "cell_type": "markdown",
   "metadata": {
    "colab_type": "text",
    "id": "yeIO_7Z9n8yY"
   },
   "source": [
    "### Hyperparameters "
   ]
  },
  {
   "cell_type": "code",
   "execution_count": 11,
   "metadata": {
    "colab": {},
    "colab_type": "code",
    "id": "judKrjccO6HH"
   },
   "outputs": [],
   "source": [
    "input_size=28\n",
    "output_size=10\n",
    "learning_rate=0.01"
   ]
  },
  {
   "cell_type": "markdown",
   "metadata": {
    "colab_type": "text",
    "id": "vhMwt3I3oAiO"
   },
   "source": [
    "### Defining model class"
   ]
  },
  {
   "cell_type": "code",
   "execution_count": 12,
   "metadata": {
    "colab": {},
    "colab_type": "code",
    "id": "BY8NIBw_rljW"
   },
   "outputs": [],
   "source": [
    "class LogisticRegressionModel(nn.Module):\n",
    "    def __init__(self,input_size,output_size):\n",
    "        super(LogisticRegressionModel,self).__init__()\n",
    "        self.linear=nn.Linear(input_size,output_size)\n",
    "    def forward(self, x):\n",
    "        out=self.linear(x)\n",
    "        return out"
   ]
  },
  {
   "cell_type": "markdown",
   "metadata": {
    "colab_type": "text",
    "id": "vuvoKNudoJ6-"
   },
   "source": [
    "### Insitantiating model class"
   ]
  },
  {
   "cell_type": "code",
   "execution_count": 13,
   "metadata": {
    "colab": {},
    "colab_type": "code",
    "id": "M1xq-RW1T8-j"
   },
   "outputs": [],
   "source": [
    "model=LogisticRegressionModel(input_size,output_size)"
   ]
  },
  {
   "cell_type": "markdown",
   "metadata": {
    "colab_type": "text",
    "id": "cf__sL7JoQCN"
   },
   "source": [
    "### Training Model"
   ]
  },
  {
   "cell_type": "code",
   "execution_count": 14,
   "metadata": {
    "colab": {
     "base_uri": "https://localhost:8080/",
     "height": 202
    },
    "colab_type": "code",
    "id": "-HjkNERKPIOH",
    "outputId": "c2ea173a-d8fa-40cb-ebf3-b155ba862003"
   },
   "outputs": [
    {
     "name": "stdout",
     "output_type": "stream",
     "text": [
      "Iter: 100   , Accuracy: 34\n",
      "Iter: 200   , Accuracy: 33\n",
      "Iter: 300   , Accuracy: 33\n",
      "Iter: 400   , Accuracy: 44\n",
      "Iter: 500   , Accuracy: 25\n",
      "Iter: 600   , Accuracy: 51\n",
      "Iter: 700   , Accuracy: 39\n",
      "Iter: 800   , Accuracy: 52\n",
      "Iter: 900   , Accuracy: 40\n",
      "Iter: 1000   , Accuracy: 52\n"
     ]
    }
   ],
   "source": [
    "iter=0\n",
    "criterion=nn.CrossEntropyLoss()\n",
    "optimizer=torch.optim.Adam(model.parameters(),lr=learning_rate)\n",
    "for j in range(1):\n",
    "    for i in range(1000):\n",
    "        x_train=Variable(x_train)\n",
    "        y_train=Variable(y_train)\n",
    "        optimizer.zero_grad()\n",
    "        output=model(x_train)\n",
    "        loss=criterion(output,y_train)\n",
    "        loss.backward()\n",
    "        optimizer.step()\n",
    "        iter+=1\n",
    "        if iter%100==0:\n",
    "            correct = 0\n",
    "            x_test=Variable(x_test)\n",
    "            y_test=Variable(y_test)\n",
    "            output=model(x_test)\n",
    "            _,result=torch.max(output.data,1)\n",
    "            total=len(x_test) \n",
    "            correct=(result==y_test).sum()\n",
    "            print('Iter: {}   , Accuracy: {}'.format(iter,(100*correct)/total))\n",
    "\n",
    "  "
   ]
  },
  {
   "cell_type": "code",
   "execution_count": null,
   "metadata": {},
   "outputs": [],
   "source": []
  }
 ],
 "metadata": {
  "colab": {
   "name": "Research_music.ipynb",
   "provenance": [],
   "version": "0.3.2"
  },
  "kernelspec": {
   "display_name": "Python 3",
   "language": "python",
   "name": "python3"
  },
  "language_info": {
   "codemirror_mode": {
    "name": "ipython",
    "version": 3
   },
   "file_extension": ".py",
   "mimetype": "text/x-python",
   "name": "python",
   "nbconvert_exporter": "python",
   "pygments_lexer": "ipython3",
   "version": "3.7.1"
  }
 },
 "nbformat": 4,
 "nbformat_minor": 1
}
