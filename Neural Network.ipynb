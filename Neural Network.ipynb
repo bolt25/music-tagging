{
 "cells": [
  {
   "cell_type": "markdown",
   "metadata": {
    "colab_type": "text",
    "id": "_a2zdYBorQkt"
   },
   "source": [
    "# Neural Network"
   ]
  },
  {
   "cell_type": "code",
   "execution_count": 15,
   "metadata": {
    "colab": {},
    "colab_type": "code",
    "id": "AfravvA6rL9-"
   },
   "outputs": [],
   "source": [
    "import pandas as pd\n",
    "from sklearn.model_selection import train_test_split\n",
    "import torch\n",
    "import torch.nn as nn\n",
    "from torch.autograd import Variable\n",
    "import torchvision.transforms as transforms"
   ]
  },
  {
   "cell_type": "code",
   "execution_count": 76,
   "metadata": {
    "colab": {},
    "colab_type": "code",
    "id": "zicVrrfhrWIk"
   },
   "outputs": [],
   "source": [
    "df=pd.read_csv('C:\\\\Users\\DHARMIK\\Desktop\\music_data.csv')\n",
    "x=df.iloc[:,1:-1]\n",
    "y=df.iloc[:,-1]\n",
    "x_train,x_test,y_train,y_test=train_test_split(x,y,test_size=0.33,random_state=123) #splitting in training and testing dataset"
   ]
  },
  {
   "cell_type": "code",
   "execution_count": 77,
   "metadata": {
    "colab": {},
    "colab_type": "code",
    "id": "1oNmHaE8rhYl"
   },
   "outputs": [],
   "source": [
    "x_train=x_train.values         #converting in np.ndarray\n",
    "y_train=y_train.values         #converting in np.ndarray\n",
    "x_test=x_test.values           #converting in np.ndarray\n",
    "y_test=y_test.values           #converting in np.ndarray\n",
    "\n",
    "\n",
    "x_train=torch.from_numpy(x_train)  #converting in torch tensor \n",
    "x_test=torch.from_numpy(x_test)    #converting in torch tensor\n",
    "y_train=torch.from_numpy(y_train)  #converting in torch tensor\n",
    "y_test=torch.from_numpy(y_test)    #converting in torch tensor\n",
    "\n",
    "x_train=x_train.type(torch.FloatTensor) #converting to FloatTensor\n",
    "x_test=x_test.type(torch.FloatTensor)   #converting to FloatTensor\n",
    "y_train=y_train.type(torch.LongTensor)  #converting to FloatTensor\n",
    "y_test=y_test.type(torch.LongTensor)    #converting to FloatTensor\n"
   ]
  },
  {
   "cell_type": "code",
   "execution_count": 80,
   "metadata": {
    "colab": {},
    "colab_type": "code",
    "id": "jA60B58orp62"
   },
   "outputs": [],
   "source": [
    "input_dim=28\n",
    "hidden_dim1=100\n",
    "hidden_dim2=100\n",
    "output_dim=10\n",
    "learning_rate=0.01\n",
    "epochs=1000"
   ]
  },
  {
   "cell_type": "code",
   "execution_count": 81,
   "metadata": {
    "colab": {},
    "colab_type": "code",
    "id": "JvDudmFLGB99"
   },
   "outputs": [],
   "source": [
    "class Neural(nn.Module):\n",
    "    def __init__(self,input_dim,hidden_dim1,hidden_dim2,output_dim):\n",
    "        super(Neural,self).__init__()\n",
    "        self.linear1=nn.Linear(input_dim,hidden_dim1)\n",
    "        self.hidden1=nn.Sigmoid()\n",
    "        self.linear2=nn.Linear(hidden_dim1,hidden_dim2)\n",
    "        self.hidden2=nn.ReLU()\n",
    "        self.linear3=nn.Linear(hidden_dim2,output_dim)\n",
    "    def forward(self,x):\n",
    "        out=self.linear1(x)\n",
    "        out=self.hidden1(out)\n",
    "        out=self.linear2(out)\n",
    "        out=self.hidden2(out)\n",
    "        out=self.linear3(out)\n",
    "        return out   "
   ]
  },
  {
   "cell_type": "code",
   "execution_count": 82,
   "metadata": {
    "colab": {},
    "colab_type": "code",
    "id": "kvtvQ12uIvlM"
   },
   "outputs": [],
   "source": [
    "model=Neural(input_dim,hidden_dim1,hidden_dim2,output_dim)"
   ]
  },
  {
   "cell_type": "code",
   "execution_count": 83,
   "metadata": {
    "colab": {},
    "colab_type": "code",
    "id": "-vBPZ74LJA7g"
   },
   "outputs": [],
   "source": [
    "criterion=nn.CrossEntropyLoss()\n",
    "optimizer=torch.optim.Adam(model.parameters(),lr=learning_rate)"
   ]
  },
  {
   "cell_type": "code",
   "execution_count": 84,
   "metadata": {
    "colab": {
     "base_uri": "https://localhost:8080/",
     "height": 202
    },
    "colab_type": "code",
    "id": "Xg056iJIIy9H",
    "outputId": "21860f3b-1fc8-4e62-ce1b-9b203a89caf3"
   },
   "outputs": [
    {
     "name": "stdout",
     "output_type": "stream",
     "text": [
      "Iter: 100, loss:1.9062048196792603 , Accuracy: 20\n",
      "Iter: 200, loss:1.8283432722091675 , Accuracy: 20\n",
      "Iter: 300, loss:1.797760248184204 , Accuracy: 23\n",
      "Iter: 400, loss:1.8598153591156006 , Accuracy: 21\n",
      "Iter: 500, loss:1.8701844215393066 , Accuracy: 20\n",
      "Iter: 600, loss:1.8532787561416626 , Accuracy: 20\n",
      "Iter: 700, loss:1.7894458770751953 , Accuracy: 23\n",
      "Iter: 800, loss:1.8118083477020264 , Accuracy: 26\n",
      "Iter: 900, loss:1.8181527853012085 , Accuracy: 24\n",
      "Iter: 1000, loss:1.6977653503417969 , Accuracy: 25\n"
     ]
    }
   ],
   "source": [
    "iter=0\n",
    "for i in range(epochs):\n",
    "    x_train=Variable(x_train)\n",
    "    y_train=Variable(y_train)\n",
    "    output=model(x_train)\n",
    "    loss=criterion(output,y_train)\n",
    "    optimizer.zero_grad()\n",
    "    loss.backward()\n",
    "    optimizer.step()\n",
    "    iter+=1\n",
    "    if iter%100==0:\n",
    "        correct=0\n",
    "        total=0\n",
    "        x_test=Variable(x_test)\n",
    "        y_test=Variable(y_test)\n",
    "        outputs=model(x_test)\n",
    "        _,result=torch.max(outputs.data,1)\n",
    "        correct=(result==y_test).sum()\n",
    "        total=len(x_test)\n",
    "        print('Iter: {}, loss:{} , Accuracy: {}'.format(iter,loss,(100*correct)/total))"
   ]
  }
 ],
 "metadata": {
  "colab": {
   "name": "Research_music.ipynb",
   "provenance": [],
   "version": "0.3.2"
  },
  "kernelspec": {
   "display_name": "Python 3",
   "language": "python",
   "name": "python3"
  },
  "language_info": {
   "codemirror_mode": {
    "name": "ipython",
    "version": 3
   },
   "file_extension": ".py",
   "mimetype": "text/x-python",
   "name": "python",
   "nbconvert_exporter": "python",
   "pygments_lexer": "ipython3",
   "version": "3.7.1"
  }
 },
 "nbformat": 4,
 "nbformat_minor": 1
}
